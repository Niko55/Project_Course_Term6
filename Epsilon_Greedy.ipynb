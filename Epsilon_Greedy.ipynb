{
  "nbformat": 4,
  "nbformat_minor": 0,
  "metadata": {
    "colab": {
      "name": "Epsilon_Greedy.ipynb",
      "provenance": [],
      "authorship_tag": "ABX9TyOx1z9UqVBsu3YBaoD7VmGq",
      "include_colab_link": true
    },
    "kernelspec": {
      "name": "python3",
      "display_name": "Python 3"
    }
  },
  "cells": [
    {
      "cell_type": "markdown",
      "metadata": {
        "id": "view-in-github",
        "colab_type": "text"
      },
      "source": [
        "<a href=\"https://colab.research.google.com/github/Niko55/Project_Course_Term6/blob/master/Epsilon_Greedy.ipynb\" target=\"_parent\"><img src=\"https://colab.research.google.com/assets/colab-badge.svg\" alt=\"Open In Colab\"/></a>"
      ]
    },
    {
      "cell_type": "code",
      "metadata": {
        "id": "NmDa1zrkE8YG",
        "colab_type": "code",
        "colab": {
          "base_uri": "https://localhost:8080/",
          "height": 85
        },
        "outputId": "ae2f11e2-ec20-4b93-ddd1-44fd34404c2e"
      },
      "source": [
        "!git clone https://github.com/JKCooper2/gym-bandits"
      ],
      "execution_count": 1,
      "outputs": [
        {
          "output_type": "stream",
          "text": [
            "Cloning into 'gym-bandits'...\n",
            "remote: Enumerating objects: 73, done.\u001b[K\n",
            "remote: Total 73 (delta 0), reused 0 (delta 0), pack-reused 73\u001b[K\n",
            "Unpacking objects:   1% (1/73)   \rUnpacking objects:   2% (2/73)   \rUnpacking objects:   4% (3/73)   \rUnpacking objects:   5% (4/73)   \rUnpacking objects:   6% (5/73)   \rUnpacking objects:   8% (6/73)   \rUnpacking objects:   9% (7/73)   \rUnpacking objects:  10% (8/73)   \rUnpacking objects:  12% (9/73)   \rUnpacking objects:  13% (10/73)   \rUnpacking objects:  15% (11/73)   \rUnpacking objects:  16% (12/73)   \rUnpacking objects:  17% (13/73)   \rUnpacking objects:  19% (14/73)   \rUnpacking objects:  20% (15/73)   \rUnpacking objects:  21% (16/73)   \rUnpacking objects:  23% (17/73)   \rUnpacking objects:  24% (18/73)   \rUnpacking objects:  26% (19/73)   \rUnpacking objects:  27% (20/73)   \rUnpacking objects:  28% (21/73)   \rUnpacking objects:  30% (22/73)   \rUnpacking objects:  31% (23/73)   \rUnpacking objects:  32% (24/73)   \rUnpacking objects:  34% (25/73)   \rUnpacking objects:  35% (26/73)   \rUnpacking objects:  36% (27/73)   \rUnpacking objects:  38% (28/73)   \rUnpacking objects:  39% (29/73)   \rUnpacking objects:  41% (30/73)   \rUnpacking objects:  42% (31/73)   \rUnpacking objects:  43% (32/73)   \rUnpacking objects:  45% (33/73)   \rUnpacking objects:  46% (34/73)   \rUnpacking objects:  47% (35/73)   \rUnpacking objects:  49% (36/73)   \rUnpacking objects:  50% (37/73)   \rUnpacking objects:  52% (38/73)   \rUnpacking objects:  53% (39/73)   \rUnpacking objects:  54% (40/73)   \rUnpacking objects:  56% (41/73)   \rUnpacking objects:  57% (42/73)   \rUnpacking objects:  58% (43/73)   \rUnpacking objects:  60% (44/73)   \rUnpacking objects:  61% (45/73)   \rUnpacking objects:  63% (46/73)   \rUnpacking objects:  64% (47/73)   \rUnpacking objects:  65% (48/73)   \rUnpacking objects:  67% (49/73)   \rUnpacking objects:  68% (50/73)   \rUnpacking objects:  69% (51/73)   \rUnpacking objects:  71% (52/73)   \rUnpacking objects:  72% (53/73)   \rUnpacking objects:  73% (54/73)   \rUnpacking objects:  75% (55/73)   \rUnpacking objects:  76% (56/73)   \rUnpacking objects:  78% (57/73)   \rUnpacking objects:  79% (58/73)   \rUnpacking objects:  80% (59/73)   \rUnpacking objects:  82% (60/73)   \rUnpacking objects:  83% (61/73)   \rUnpacking objects:  84% (62/73)   \rUnpacking objects:  86% (63/73)   \rUnpacking objects:  87% (64/73)   \rUnpacking objects:  89% (65/73)   \rUnpacking objects:  90% (66/73)   \rUnpacking objects:  91% (67/73)   \rUnpacking objects:  93% (68/73)   \rUnpacking objects:  94% (69/73)   \rUnpacking objects:  95% (70/73)   \rUnpacking objects:  97% (71/73)   \rUnpacking objects:  98% (72/73)   \rUnpacking objects: 100% (73/73)   \rUnpacking objects: 100% (73/73), done.\n"
          ],
          "name": "stdout"
        }
      ]
    },
    {
      "cell_type": "code",
      "metadata": {
        "id": "S0_Nc0u0FQ4E",
        "colab_type": "code",
        "colab": {
          "base_uri": "https://localhost:8080/",
          "height": 34
        },
        "outputId": "6c79cb00-34e6-4782-b3d7-65c6f4906be3"
      },
      "source": [
        "cd gym-bandits"
      ],
      "execution_count": 2,
      "outputs": [
        {
          "output_type": "stream",
          "text": [
            "/content/gym-bandits\n"
          ],
          "name": "stdout"
        }
      ]
    },
    {
      "cell_type": "code",
      "metadata": {
        "id": "9x0WKGhrFdo_",
        "colab_type": "code",
        "colab": {
          "base_uri": "https://localhost:8080/",
          "height": 272
        },
        "outputId": "36ea2acd-f573-4eed-be5b-ed21f4bf50e4"
      },
      "source": [
        "pip install ."
      ],
      "execution_count": 3,
      "outputs": [
        {
          "output_type": "stream",
          "text": [
            "Processing /content/gym-bandits\n",
            "Requirement already satisfied: gym in /usr/local/lib/python3.6/dist-packages (from gym-bandits==0.0.2) (0.15.6)\n",
            "Requirement already satisfied: numpy>=1.10.4 in /usr/local/lib/python3.6/dist-packages (from gym->gym-bandits==0.0.2) (1.17.5)\n",
            "Requirement already satisfied: pyglet<=1.5.0,>=1.4.0 in /usr/local/lib/python3.6/dist-packages (from gym->gym-bandits==0.0.2) (1.4.10)\n",
            "Requirement already satisfied: six in /usr/local/lib/python3.6/dist-packages (from gym->gym-bandits==0.0.2) (1.12.0)\n",
            "Requirement already satisfied: scipy in /usr/local/lib/python3.6/dist-packages (from gym->gym-bandits==0.0.2) (1.4.1)\n",
            "Requirement already satisfied: cloudpickle~=1.2.0 in /usr/local/lib/python3.6/dist-packages (from gym->gym-bandits==0.0.2) (1.2.2)\n",
            "Requirement already satisfied: future in /usr/local/lib/python3.6/dist-packages (from pyglet<=1.5.0,>=1.4.0->gym->gym-bandits==0.0.2) (0.16.0)\n",
            "Building wheels for collected packages: gym-bandits\n",
            "  Building wheel for gym-bandits (setup.py) ... \u001b[?25l\u001b[?25hdone\n",
            "  Created wheel for gym-bandits: filename=gym_bandits-0.0.2-cp36-none-any.whl size=5180 sha256=6ff302a2e2a1ad3d421180120742ce09f93ca0c2eaed44df6e07f856b9d2876b\n",
            "  Stored in directory: /root/.cache/pip/wheels/3a/f5/8a/043c9375d0a49bf4a5d102e93e5868a54ddaaf6508d88e4edc\n",
            "Successfully built gym-bandits\n",
            "Installing collected packages: gym-bandits\n",
            "Successfully installed gym-bandits-0.0.2\n"
          ],
          "name": "stdout"
        }
      ]
    },
    {
      "cell_type": "code",
      "metadata": {
        "id": "hQxl9f8cFRCY",
        "colab_type": "code",
        "colab": {}
      },
      "source": [
        "import gym_bandits\n",
        "import gym\n",
        "import numpy as np\n",
        "import pandas as pd\n",
        "import matplotlib.pyplot as plt\n",
        "%matplotlib inline\n",
        "import seaborn as sns\n",
        "env = gym.make(\"BanditTenArmedGaussian-v0\")"
      ],
      "execution_count": 0,
      "outputs": []
    },
    {
      "cell_type": "code",
      "metadata": {
        "id": "eHHED_7KFiHl",
        "colab_type": "code",
        "colab": {}
      },
      "source": [
        "## Creating datasets randomly\n",
        "df = pd.DataFrame()\n",
        "df['Headline_0'] = np.random.randint(0,2,100000)\n",
        "df['Headline_1'] = np.random.randint(0,2,100000)\n",
        "df['Headline_2'] = np.random.randint(0,2,100000)\n",
        "df['Headline_3'] = np.random.randint(0,2,100000)\n",
        "df['Headline_4'] = np.random.randint(0,2,100000)"
      ],
      "execution_count": 0,
      "outputs": []
    },
    {
      "cell_type": "code",
      "metadata": {
        "id": "v9kfrMmIFiK3",
        "colab_type": "code",
        "colab": {
          "base_uri": "https://localhost:8080/",
          "height": 359
        },
        "outputId": "eea2fa23-2e41-42e3-81b4-9a6de40f8310"
      },
      "source": [
        "df.head(10)"
      ],
      "execution_count": 6,
      "outputs": [
        {
          "output_type": "execute_result",
          "data": {
            "text/html": [
              "<div>\n",
              "<style scoped>\n",
              "    .dataframe tbody tr th:only-of-type {\n",
              "        vertical-align: middle;\n",
              "    }\n",
              "\n",
              "    .dataframe tbody tr th {\n",
              "        vertical-align: top;\n",
              "    }\n",
              "\n",
              "    .dataframe thead th {\n",
              "        text-align: right;\n",
              "    }\n",
              "</style>\n",
              "<table border=\"1\" class=\"dataframe\">\n",
              "  <thead>\n",
              "    <tr style=\"text-align: right;\">\n",
              "      <th></th>\n",
              "      <th>Headline_0</th>\n",
              "      <th>Headline_1</th>\n",
              "      <th>Headline_2</th>\n",
              "      <th>Headline_3</th>\n",
              "      <th>Headline_4</th>\n",
              "    </tr>\n",
              "  </thead>\n",
              "  <tbody>\n",
              "    <tr>\n",
              "      <th>0</th>\n",
              "      <td>1</td>\n",
              "      <td>1</td>\n",
              "      <td>1</td>\n",
              "      <td>0</td>\n",
              "      <td>1</td>\n",
              "    </tr>\n",
              "    <tr>\n",
              "      <th>1</th>\n",
              "      <td>1</td>\n",
              "      <td>1</td>\n",
              "      <td>0</td>\n",
              "      <td>1</td>\n",
              "      <td>1</td>\n",
              "    </tr>\n",
              "    <tr>\n",
              "      <th>2</th>\n",
              "      <td>0</td>\n",
              "      <td>0</td>\n",
              "      <td>1</td>\n",
              "      <td>1</td>\n",
              "      <td>0</td>\n",
              "    </tr>\n",
              "    <tr>\n",
              "      <th>3</th>\n",
              "      <td>1</td>\n",
              "      <td>1</td>\n",
              "      <td>1</td>\n",
              "      <td>1</td>\n",
              "      <td>0</td>\n",
              "    </tr>\n",
              "    <tr>\n",
              "      <th>4</th>\n",
              "      <td>1</td>\n",
              "      <td>0</td>\n",
              "      <td>1</td>\n",
              "      <td>0</td>\n",
              "      <td>1</td>\n",
              "    </tr>\n",
              "    <tr>\n",
              "      <th>5</th>\n",
              "      <td>0</td>\n",
              "      <td>1</td>\n",
              "      <td>0</td>\n",
              "      <td>1</td>\n",
              "      <td>0</td>\n",
              "    </tr>\n",
              "    <tr>\n",
              "      <th>6</th>\n",
              "      <td>1</td>\n",
              "      <td>1</td>\n",
              "      <td>1</td>\n",
              "      <td>0</td>\n",
              "      <td>0</td>\n",
              "    </tr>\n",
              "    <tr>\n",
              "      <th>7</th>\n",
              "      <td>1</td>\n",
              "      <td>0</td>\n",
              "      <td>1</td>\n",
              "      <td>0</td>\n",
              "      <td>0</td>\n",
              "    </tr>\n",
              "    <tr>\n",
              "      <th>8</th>\n",
              "      <td>1</td>\n",
              "      <td>0</td>\n",
              "      <td>0</td>\n",
              "      <td>0</td>\n",
              "      <td>1</td>\n",
              "    </tr>\n",
              "    <tr>\n",
              "      <th>9</th>\n",
              "      <td>1</td>\n",
              "      <td>0</td>\n",
              "      <td>1</td>\n",
              "      <td>0</td>\n",
              "      <td>1</td>\n",
              "    </tr>\n",
              "  </tbody>\n",
              "</table>\n",
              "</div>"
            ],
            "text/plain": [
              "   Headline_0  Headline_1  Headline_2  Headline_3  Headline_4\n",
              "0           1           1           1           0           1\n",
              "1           1           1           0           1           1\n",
              "2           0           0           1           1           0\n",
              "3           1           1           1           1           0\n",
              "4           1           0           1           0           1\n",
              "5           0           1           0           1           0\n",
              "6           1           1           1           0           0\n",
              "7           1           0           1           0           0\n",
              "8           1           0           0           0           1\n",
              "9           1           0           1           0           1"
            ]
          },
          "metadata": {
            "tags": []
          },
          "execution_count": 6
        }
      ]
    },
    {
      "cell_type": "code",
      "metadata": {
        "id": "MGvHEDifFiSL",
        "colab_type": "code",
        "colab": {}
      },
      "source": [
        "# number of banners\n",
        "num_banner = 5\n",
        "\n",
        "# number of iterations\n",
        "no_of_iterations = 100000\n",
        "\n",
        "# list for storing banners which are selected\n",
        "banner_selected = []\n",
        "\n",
        "# count number of times the banner was selected\n",
        "count = np.zeros(num_banner)\n",
        "\n",
        "# Q value of the banner\n",
        "Q = np.zeros(num_banner)\n",
        "\n",
        "# sum of rewards obtained by the banner\n",
        "sum_rewards = np.zeros(num_banner)"
      ],
      "execution_count": 0,
      "outputs": []
    },
    {
      "cell_type": "code",
      "metadata": {
        "id": "iD6mR8JTFiRY",
        "colab_type": "code",
        "colab": {}
      },
      "source": [
        "def epsilon_greedy(epsilon):\n",
        "    \n",
        "    random_value = np.random.random()\n",
        "    choose_random = random_value < epsilon\n",
        "    \n",
        "    if choose_random:\n",
        "        action =  np.random.choice(num_banner)\n",
        "    else:\n",
        "        action = np.argmax(Q)\n",
        "    \n",
        "    return action"
      ],
      "execution_count": 0,
      "outputs": []
    },
    {
      "cell_type": "code",
      "metadata": {
        "id": "jRW_wDk7FiQd",
        "colab_type": "code",
        "colab": {}
      },
      "source": [
        "for i in range(no_of_iterations):\n",
        "    \n",
        "    # select the banner using epsilon greedy policy\n",
        "    banner = epsilon_greedy(0.5)\n",
        "        \n",
        "    # get the reward\n",
        "    reward = df.values[i, banner]\n",
        "    \n",
        "    # update the selected banner count\n",
        "    count[banner] += 1\n",
        "    \n",
        "    # sum the rewards obtained by that banner\n",
        "    sum_rewards[banner]+=reward\n",
        "    \n",
        "    # calculate the Q value of the banner\n",
        "    Q[banner] = sum_rewards[banner]/count[banner]\n",
        "    \n",
        "    banner_selected.append(banner)"
      ],
      "execution_count": 0,
      "outputs": []
    },
    {
      "cell_type": "code",
      "metadata": {
        "id": "DvAytXSAF60_",
        "colab_type": "code",
        "colab": {
          "base_uri": "https://localhost:8080/",
          "height": 282
        },
        "outputId": "fb1c2b00-8c19-4725-b27b-7fbaba9b061e"
      },
      "source": [
        "sns.distplot(banner_selected)"
      ],
      "execution_count": 10,
      "outputs": [
        {
          "output_type": "execute_result",
          "data": {
            "text/plain": [
              "<matplotlib.axes._subplots.AxesSubplot at 0x7f1164689828>"
            ]
          },
          "metadata": {
            "tags": []
          },
          "execution_count": 10
        },
        {
          "output_type": "display_data",
          "data": {
            "image/png": "[encoded data removed]",
            "text/plain": [
              "<Figure size 432x288 with 1 Axes>"
            ]
          },
          "metadata": {
            "tags": []
          }
        }
      ]
    }
  ]
}