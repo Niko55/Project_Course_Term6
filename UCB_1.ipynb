{
  "nbformat": 4,
  "nbformat_minor": 0,
  "metadata": {
    "colab": {
      "name": "UCB_1.ipynb",
      "provenance": [],
      "authorship_tag": "ABX9TyMzAOMIiJ8Tw8IpduX8e6wZ",
      "include_colab_link": true
    },
    "kernelspec": {
      "name": "python3",
      "display_name": "Python 3"
    }
  },
  "cells": [
    {
      "cell_type": "markdown",
      "metadata": {
        "id": "view-in-github",
        "colab_type": "text"
      },
      "source": [
        "<a href=\"https://colab.research.google.com/github/Niko55/Project_Course_Term6/blob/master/UCB_1.ipynb\" target=\"_parent\"><img src=\"https://colab.research.google.com/assets/colab-badge.svg\" alt=\"Open In Colab\"/></a>"
      ]
    },
    {
      "cell_type": "code",
      "metadata": {
        "id": "Z55L1ipTGRQw",
        "colab_type": "code",
        "colab": {
          "base_uri": "https://localhost:8080/",
          "height": 34
        },
        "outputId": "e655f8fe-b6da-4bd0-87a8-438b370a8d7b"
      },
      "source": [
        "!git clone https://github.com/JKCooper2/gym-bandits"
      ],
      "execution_count": 1,
      "outputs": [
        {
          "output_type": "stream",
          "text": [
            "fatal: destination path 'gym-bandits' already exists and is not an empty directory.\n"
          ],
          "name": "stdout"
        }
      ]
    },
    {
      "cell_type": "code",
      "metadata": {
        "id": "cF0bYtObGUw5",
        "colab_type": "code",
        "colab": {
          "base_uri": "https://localhost:8080/",
          "height": 34
        },
        "outputId": "44acbda7-7827-43ba-d329-79d2557b02a5"
      },
      "source": [
        "cd gym-bandits"
      ],
      "execution_count": 2,
      "outputs": [
        {
          "output_type": "stream",
          "text": [
            "/content/gym-bandits\n"
          ],
          "name": "stdout"
        }
      ]
    },
    {
      "cell_type": "code",
      "metadata": {
        "id": "cse_hYhjGU3g",
        "colab_type": "code",
        "colab": {
          "base_uri": "https://localhost:8080/",
          "height": 323
        },
        "outputId": "c2aa63ef-6a61-4992-fea5-90a275529f5e"
      },
      "source": [
        "pip install ."
      ],
      "execution_count": 3,
      "outputs": [
        {
          "output_type": "stream",
          "text": [
            "Processing /content/gym-bandits\n",
            "Requirement already satisfied: gym in /usr/local/lib/python3.6/dist-packages (from gym-bandits==0.0.2) (0.15.6)\n",
            "Requirement already satisfied: six in /usr/local/lib/python3.6/dist-packages (from gym->gym-bandits==0.0.2) (1.12.0)\n",
            "Requirement already satisfied: numpy>=1.10.4 in /usr/local/lib/python3.6/dist-packages (from gym->gym-bandits==0.0.2) (1.17.5)\n",
            "Requirement already satisfied: pyglet<=1.5.0,>=1.4.0 in /usr/local/lib/python3.6/dist-packages (from gym->gym-bandits==0.0.2) (1.4.10)\n",
            "Requirement already satisfied: cloudpickle~=1.2.0 in /usr/local/lib/python3.6/dist-packages (from gym->gym-bandits==0.0.2) (1.2.2)\n",
            "Requirement already satisfied: scipy in /usr/local/lib/python3.6/dist-packages (from gym->gym-bandits==0.0.2) (1.4.1)\n",
            "Requirement already satisfied: future in /usr/local/lib/python3.6/dist-packages (from pyglet<=1.5.0,>=1.4.0->gym->gym-bandits==0.0.2) (0.16.0)\n",
            "Building wheels for collected packages: gym-bandits\n",
            "  Building wheel for gym-bandits (setup.py) ... \u001b[?25l\u001b[?25hdone\n",
            "  Created wheel for gym-bandits: filename=gym_bandits-0.0.2-cp36-none-any.whl size=5180 sha256=073be169b78533f65d13f082c7fcb446a8aedd36cf537f32333dd668993f50e2\n",
            "  Stored in directory: /root/.cache/pip/wheels/3a/f5/8a/043c9375d0a49bf4a5d102e93e5868a54ddaaf6508d88e4edc\n",
            "Successfully built gym-bandits\n",
            "Installing collected packages: gym-bandits\n",
            "  Found existing installation: gym-bandits 0.0.2\n",
            "    Uninstalling gym-bandits-0.0.2:\n",
            "      Successfully uninstalled gym-bandits-0.0.2\n",
            "Successfully installed gym-bandits-0.0.2\n"
          ],
          "name": "stdout"
        }
      ]
    },
    {
      "cell_type": "code",
      "metadata": {
        "id": "oT44iQqQGU6v",
        "colab_type": "code",
        "colab": {}
      },
      "source": [
        "import gym_bandits\n",
        "import gym\n",
        "import numpy as np\n",
        "import pandas as pd\n",
        "import matplotlib.pyplot as plt\n",
        "%matplotlib inline\n",
        "import seaborn as sns\n",
        "env = gym.make(\"BanditTenArmedGaussian-v0\")"
      ],
      "execution_count": 0,
      "outputs": []
    },
    {
      "cell_type": "code",
      "metadata": {
        "id": "sNmIF7MaGU01",
        "colab_type": "code",
        "colab": {}
      },
      "source": [
        "## Creating datasets randomly\n",
        "df = pd.DataFrame()\n",
        "df['Headline_0'] = np.random.randint(0,2,100000)\n",
        "df['Headline_1'] = np.random.randint(0,2,100000)\n",
        "df['Headline_2'] = np.random.randint(0,2,100000)\n",
        "df['Headline_3'] = np.random.randint(0,2,100000)\n",
        "df['Headline_4'] = np.random.randint(0,2,100000)"
      ],
      "execution_count": 0,
      "outputs": []
    },
    {
      "cell_type": "code",
      "metadata": {
        "id": "g-esFAi8GcdQ",
        "colab_type": "code",
        "colab": {
          "base_uri": "https://localhost:8080/",
          "height": 359
        },
        "outputId": "9f1d4446-4682-4a76-9206-be982771b1b0"
      },
      "source": [
        "df.head(10)"
      ],
      "execution_count": 6,
      "outputs": [
        {
          "output_type": "execute_result",
          "data": {
            "text/html": [
              "<div>\n",
              "<style scoped>\n",
              "    .dataframe tbody tr th:only-of-type {\n",
              "        vertical-align: middle;\n",
              "    }\n",
              "\n",
              "    .dataframe tbody tr th {\n",
              "        vertical-align: top;\n",
              "    }\n",
              "\n",
              "    .dataframe thead th {\n",
              "        text-align: right;\n",
              "    }\n",
              "</style>\n",
              "<table border=\"1\" class=\"dataframe\">\n",
              "  <thead>\n",
              "    <tr style=\"text-align: right;\">\n",
              "      <th></th>\n",
              "      <th>Headline_0</th>\n",
              "      <th>Headline_1</th>\n",
              "      <th>Headline_2</th>\n",
              "      <th>Headline_3</th>\n",
              "      <th>Headline_4</th>\n",
              "    </tr>\n",
              "  </thead>\n",
              "  <tbody>\n",
              "    <tr>\n",
              "      <th>0</th>\n",
              "      <td>1</td>\n",
              "      <td>0</td>\n",
              "      <td>1</td>\n",
              "      <td>0</td>\n",
              "      <td>0</td>\n",
              "    </tr>\n",
              "    <tr>\n",
              "      <th>1</th>\n",
              "      <td>0</td>\n",
              "      <td>1</td>\n",
              "      <td>1</td>\n",
              "      <td>1</td>\n",
              "      <td>1</td>\n",
              "    </tr>\n",
              "    <tr>\n",
              "      <th>2</th>\n",
              "      <td>0</td>\n",
              "      <td>0</td>\n",
              "      <td>1</td>\n",
              "      <td>0</td>\n",
              "      <td>1</td>\n",
              "    </tr>\n",
              "    <tr>\n",
              "      <th>3</th>\n",
              "      <td>1</td>\n",
              "      <td>0</td>\n",
              "      <td>1</td>\n",
              "      <td>1</td>\n",
              "      <td>1</td>\n",
              "    </tr>\n",
              "    <tr>\n",
              "      <th>4</th>\n",
              "      <td>0</td>\n",
              "      <td>1</td>\n",
              "      <td>0</td>\n",
              "      <td>0</td>\n",
              "      <td>0</td>\n",
              "    </tr>\n",
              "    <tr>\n",
              "      <th>5</th>\n",
              "      <td>1</td>\n",
              "      <td>1</td>\n",
              "      <td>1</td>\n",
              "      <td>0</td>\n",
              "      <td>0</td>\n",
              "    </tr>\n",
              "    <tr>\n",
              "      <th>6</th>\n",
              "      <td>1</td>\n",
              "      <td>1</td>\n",
              "      <td>0</td>\n",
              "      <td>0</td>\n",
              "      <td>1</td>\n",
              "    </tr>\n",
              "    <tr>\n",
              "      <th>7</th>\n",
              "      <td>0</td>\n",
              "      <td>1</td>\n",
              "      <td>0</td>\n",
              "      <td>0</td>\n",
              "      <td>0</td>\n",
              "    </tr>\n",
              "    <tr>\n",
              "      <th>8</th>\n",
              "      <td>0</td>\n",
              "      <td>0</td>\n",
              "      <td>0</td>\n",
              "      <td>1</td>\n",
              "      <td>1</td>\n",
              "    </tr>\n",
              "    <tr>\n",
              "      <th>9</th>\n",
              "      <td>0</td>\n",
              "      <td>0</td>\n",
              "      <td>1</td>\n",
              "      <td>1</td>\n",
              "      <td>1</td>\n",
              "    </tr>\n",
              "  </tbody>\n",
              "</table>\n",
              "</div>"
            ],
            "text/plain": [
              "   Headline_0  Headline_1  Headline_2  Headline_3  Headline_4\n",
              "0           1           0           1           0           0\n",
              "1           0           1           1           1           1\n",
              "2           0           0           1           0           1\n",
              "3           1           0           1           1           1\n",
              "4           0           1           0           0           0\n",
              "5           1           1           1           0           0\n",
              "6           1           1           0           0           1\n",
              "7           0           1           0           0           0\n",
              "8           0           0           0           1           1\n",
              "9           0           0           1           1           1"
            ]
          },
          "metadata": {
            "tags": []
          },
          "execution_count": 6
        }
      ]
    },
    {
      "cell_type": "code",
      "metadata": {
        "id": "LzUvIJ4ZGx-U",
        "colab_type": "code",
        "colab": {}
      },
      "source": [
        "# number of banners\n",
        "num_banner = 5\n",
        "\n",
        "# number of iterations\n",
        "no_of_iterations = 100000\n",
        "\n",
        "# list for storing banners which are selected\n",
        "banner_selected = []\n",
        "\n",
        "# count number of times the banner was selected\n",
        "count = np.zeros(num_banner)\n",
        "\n",
        "# Q value of the banner\n",
        "Q = np.zeros(num_banner)\n",
        "\n",
        "# sum of rewards obtained by the banner\n",
        "sum_rewards = np.zeros(num_banner)"
      ],
      "execution_count": 0,
      "outputs": []
    },
    {
      "cell_type": "code",
      "metadata": {
        "id": "YQod4WhkGchI",
        "colab_type": "code",
        "colab": {}
      },
      "source": [
        "def UCB(iters):\n",
        "    \n",
        "    ucb = np.zeros(10)\n",
        "    \n",
        "    #explore all the arms\n",
        "    if iters < 10:\n",
        "        return i\n",
        "    \n",
        "    else:\n",
        "        for arm in range(10):\n",
        "            \n",
        "            # calculate upper bound\n",
        "            upper_bound = math.sqrt((2*math.log(sum(count))) / count[arm])\n",
        "            \n",
        "            # add upper bound to the Q valyue\n",
        "            ucb[arm] = Q[arm] + upper_bound\n",
        "            \n",
        "        # return the arm which has maximum value\n",
        "        return (np.argmax(ucb))"
      ],
      "execution_count": 0,
      "outputs": []
    },
    {
      "cell_type": "code",
      "metadata": {
        "id": "ByDn0Oh9Go8n",
        "colab_type": "code",
        "colab": {}
      },
      "source": [
        "for i in range(no_of_iterations):\n",
        "    \n",
        "    # select the banner using epsilon greedy policy\n",
        "    banner = UCB(i)\n",
        "        \n",
        "    # get the reward\n",
        "    reward = df.values[i, banner]\n",
        "    \n",
        "    # update the selected banner count\n",
        "    count[banner] += 1\n",
        "    \n",
        "    # sum the rewards obtained by that banner\n",
        "    sum_rewards[banner]+=reward\n",
        "    \n",
        "    # calculate the Q value of the banner\n",
        "    Q[banner] = sum_rewards[banner]/count[banner]\n",
        "    \n",
        "    banner_selected.append(banner)"
      ],
      "execution_count": 0,
      "outputs": []
    },
    {
      "cell_type": "code",
      "metadata": {
        "id": "-nw_GKd6GpA7",
        "colab_type": "code",
        "colab": {}
      },
      "source": [
        "sns.distplot(banner_selected)"
      ],
      "execution_count": 0,
      "outputs": []
    }
  ]
}